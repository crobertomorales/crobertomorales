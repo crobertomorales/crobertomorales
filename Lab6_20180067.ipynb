{
 "cells": [
  {
   "cell_type": "code",
   "execution_count": 1,
   "metadata": {},
   "outputs": [],
   "source": [
    "import re\n",
    "import numpy as np \n",
    "import pandas as pd"
   ]
  },
  {
   "cell_type": "code",
   "execution_count": 2,
   "metadata": {},
   "outputs": [],
   "source": [
    "#1)"
   ]
  },
  {
   "cell_type": "code",
   "execution_count": 13,
   "metadata": {},
   "outputs": [],
   "source": [
    "prueba1 = [\"P111AAA\",\"P222BBB\",\"P333CCC\",\"M444DDD\",\"C555EEE\",\"PAAA111\",\"P1234ABC\",\"P1234567\"]"
   ]
  },
  {
   "cell_type": "code",
   "execution_count": 14,
   "metadata": {},
   "outputs": [
    {
     "name": "stdout",
     "output_type": "stream",
     "text": [
      "['P111AAA', 'P222BBB', 'P333CCC']\n"
     ]
    }
   ],
   "source": [
    "p1 = re.compile('P{1}\\d{3}[A-Z]')\n",
    "print(list(filter(p1.match,prueba1)))"
   ]
  },
  {
   "cell_type": "code",
   "execution_count": 202,
   "metadata": {},
   "outputs": [],
   "source": [
    "#2"
   ]
  },
  {
   "cell_type": "code",
   "execution_count": 105,
   "metadata": {},
   "outputs": [],
   "source": [
    "prueba2 = [\"archivo.png\",\"archivo.JPGL\",\"archivo.jpg\",\"archivo.JPG\",\"archivo.PNG\",\"archivo.PDF\",\"archivo.pdf\",\"archivopdf.py\",\"pdf.r\"]"
   ]
  },
  {
   "cell_type": "code",
   "execution_count": 216,
   "metadata": {},
   "outputs": [
    {
     "name": "stdout",
     "output_type": "stream",
     "text": [
      "['archivo.jpg', 'archivo.JPG', 'archivo.PDF', 'archivo.pdf']\n"
     ]
    }
   ],
   "source": [
    "p2 = re.compile('\\w+[.]{1}(JPG|jpg|PDF|pdf)$')\n",
    "print(list(filter(p2.match,prueba2)))"
   ]
  },
  {
   "cell_type": "code",
   "execution_count": 203,
   "metadata": {},
   "outputs": [],
   "source": [
    "#3)"
   ]
  },
  {
   "cell_type": "code",
   "execution_count": 171,
   "metadata": {},
   "outputs": [],
   "source": [
    "prueba3 = [\"12345678\",\"contra%Contra\",\"P@ssword\",\"password\",\"P@ss\",\"abcdefG&\"]"
   ]
  },
  {
   "cell_type": "code",
   "execution_count": 172,
   "metadata": {},
   "outputs": [
    {
     "name": "stdout",
     "output_type": "stream",
     "text": [
      "['contra%Contra', 'P@ssword', 'abcdefG&']\n"
     ]
    }
   ],
   "source": [
    "p3 = re.compile('(?=.*[A-Z])(?=.*\\W).{8,}')\n",
    "print(list(filter(p3.match,prueba3)))"
   ]
  },
  {
   "cell_type": "code",
   "execution_count": null,
   "metadata": {},
   "outputs": [],
   "source": [
    "#4)"
   ]
  },
  {
   "cell_type": "code",
   "execution_count": 200,
   "metadata": {},
   "outputs": [],
   "source": [
    "prueba4 = [\"19002324\",\"00002324\",\"35007500\",\"05002345\",\"23441200\",\"23008222\",\"40002324\",\"30007500\",\"01008971\"]"
   ]
  },
  {
   "cell_type": "code",
   "execution_count": 201,
   "metadata": {},
   "outputs": [
    {
     "name": "stdout",
     "output_type": "stream",
     "text": [
      "['19002324', '05002345', '23008222', '30007500']\n"
     ]
    }
   ],
   "source": [
    "\n",
    "p4 = re.compile('((0{1}[1-9]{1})|([1-2]{1}\\d{1})|(3{1}0{1}))0{2}((1{1}[1-9]{2}\\d)|([2-7]{1}\\d{3})|(8{1}\\d{1}(([0-6]{1}\\d)|(7{1}0{1}))))')\n",
    "print(list(filter(p4.match,prueba4)))\n",
    " "
   ]
  },
  {
   "cell_type": "code",
   "execution_count": null,
   "metadata": {},
   "outputs": [],
   "source": [
    "#7)"
   ]
  },
  {
   "cell_type": "code",
   "execution_count": 204,
   "metadata": {},
   "outputs": [],
   "source": [
    "prueba7 = [\"crobertomorales@ufm.edu\",\"correo@ufm.edu\",\"correo1@ufm.edu\",\"correo@gmail.com\",\"Correo@ufm.edu\",\"correoufm.edu\",\n",
    "          \"correo@ufmedu\",\"correo@ufm.edu.gt\"]"
   ]
  },
  {
   "cell_type": "code",
   "execution_count": 222,
   "metadata": {},
   "outputs": [
    {
     "name": "stdout",
     "output_type": "stream",
     "text": [
      "['crobertomorales@ufm.edu', 'correo@ufm.edu', 'correo1@ufm.edu']\n"
     ]
    }
   ],
   "source": [
    "p7 = re.compile('[a-z]+\\d{0,}[@]{1}(ufm)+[.]{1}(edu)$')\n",
    "print(list(filter(p7.match,prueba7)))"
   ]
  },
  {
   "cell_type": "code",
   "execution_count": 223,
   "metadata": {},
   "outputs": [],
   "source": [
    "#8)"
   ]
  },
  {
   "cell_type": "code",
   "execution_count": 224,
   "metadata": {},
   "outputs": [],
   "source": [
    "prueba8 = [\"abc012333ABCDEEEE\",\"33AAA\",\"e56788ERRR\",\"qq34556TRTRT\",\"lol123456789ABCDEF\",\"lala0909ERTYU\",\"LOL123456789ABCDEF\",\n",
    "           \"e5678errr\",\"78784354353535LLLL\"]"
   ]
  },
  {
   "cell_type": "code",
   "execution_count": 230,
   "metadata": {},
   "outputs": [
    {
     "name": "stdout",
     "output_type": "stream",
     "text": [
      "['abc012333ABCDEEEE', '33AAA', 'e56788ERRR', 'qq34556TRTRT', 'lol123456789ABCDEF']\n"
     ]
    }
   ],
   "source": [
    " p8 = re.compile('([a-z]{0,3})(\\d{2,9})([A-Z]{3,})$')\n",
    "print(list(filter(p8.match,prueba8)))\n"
   ]
  },
  {
   "cell_type": "code",
   "execution_count": null,
   "metadata": {},
   "outputs": [],
   "source": []
  }
 ],
 "metadata": {
  "kernelspec": {
   "display_name": "Python 3",
   "language": "python",
   "name": "python3"
  },
  "language_info": {
   "codemirror_mode": {
    "name": "ipython",
    "version": 3
   },
   "file_extension": ".py",
   "mimetype": "text/x-python",
   "name": "python",
   "nbconvert_exporter": "python",
   "pygments_lexer": "ipython3",
   "version": "3.7.7"
  }
 },
 "nbformat": 4,
 "nbformat_minor": 4
}
